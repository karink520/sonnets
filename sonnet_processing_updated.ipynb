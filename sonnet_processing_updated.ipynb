{
 "cells": [
  {
   "cell_type": "code",
   "execution_count": 80,
   "metadata": {},
   "outputs": [],
   "source": [
    "from sonnet_processing import read_sonnet_file, preprocess_sonnet, get_sonnet_phoneme_dict, get_cmu_simvecs_embedding, create_cmu_mean_simvecs_embedding_df, create_phoneme_embedding_df\n",
    "\n",
    "import cmudict\n",
    "import re\n",
    "from collections import Counter\n",
    "import pandas as pd\n",
    "import numpy as np\n",
    "import json"
   ]
  },
  {
   "cell_type": "code",
   "execution_count": 81,
   "metadata": {},
   "outputs": [],
   "source": [
    "sonnets_list = []\n",
    "curr_sonnet_idx = 0\n",
    "sonnets_list, curr_sonnet_idx = read_sonnet_file(\"text/sonnets.txt\", \"Shakespeare\", sonnets_list, curr_sonnet_idx) #154\n",
    "sonnets_list, curr_sonnet_idx = read_sonnet_file(\"text/spenser_sonnets.txt\", \"Spenser\", sonnets_list, curr_sonnet_idx) #89\n",
    "sonnets_list, curr_sonnet_idx = read_sonnet_file(\"text/sidney_sonnets.txt\", \"Sidney\", sonnets_list, curr_sonnet_idx) #108\n",
    "sonnets_dict = {idx: sonnet for idx, sonnet in enumerate(sonnets_list)}"
   ]
  },
  {
   "cell_type": "code",
   "execution_count": 82,
   "metadata": {},
   "outputs": [],
   "source": [
    "# export sonnet text as json\n",
    "import json\n",
    "# sonnets_json = json.dumps(sonnets_list)\n",
    "# with open('sonnets_shakespeare_spenser_sidney.json', 'w') as outfile:\n",
    "#     json.dump(sonnets_json, outfile)\n",
    "with open('sonnets_shakespeare_spenser_sidney.json', 'w') as outfile:\n",
    "     json.dump(sonnets_list, outfile)"
   ]
  },
  {
   "cell_type": "code",
   "execution_count": 83,
   "metadata": {},
   "outputs": [],
   "source": [
    "preprocessed_sonnets_list =[preprocess_sonnet(sonnet[\"text\"]) for sonnet in sonnets_list]"
   ]
  },
  {
   "cell_type": "code",
   "execution_count": 84,
   "metadata": {},
   "outputs": [
    {
     "name": "stdout",
     "output_type": "stream",
     "text": [
      "[('beauteous', 9), ('canst', 9), (\"stol'n\", 9), (\"virtue's\", 9), ('vouchsafe', 8), ('sprites', 8), (\"cupid's\", 8), (\"ev'n\", 8), ('shouldst', 7), ('plaints', 7), (\"lov'st\", 6), ('gainst', 6), ('wouldst', 6), ('tempests', 6), ('whereto', 6), ('sith', 6), ('deathe', 5), ('methinks', 5), (\"soul's\", 4), ('basest', 4), (\"know'st\", 4), ('wherewith', 4), ('twixt', 4), ('ravished', 4), ('therewith', 4)]\n"
     ]
    },
    {
     "data": {
      "text/html": [
       "<div>\n",
       "<style scoped>\n",
       "    .dataframe tbody tr th:only-of-type {\n",
       "        vertical-align: middle;\n",
       "    }\n",
       "\n",
       "    .dataframe tbody tr th {\n",
       "        vertical-align: top;\n",
       "    }\n",
       "\n",
       "    .dataframe thead th {\n",
       "        text-align: right;\n",
       "    }\n",
       "</style>\n",
       "<table border=\"1\" class=\"dataframe\">\n",
       "  <thead>\n",
       "    <tr style=\"text-align: right;\">\n",
       "      <th></th>\n",
       "      <th>AH</th>\n",
       "      <th>EY</th>\n",
       "      <th>AE</th>\n",
       "      <th>ER</th>\n",
       "      <th>T</th>\n",
       "      <th>JH</th>\n",
       "      <th>OY</th>\n",
       "      <th>ZH</th>\n",
       "      <th>G</th>\n",
       "      <th>V</th>\n",
       "      <th>...</th>\n",
       "      <th>HH</th>\n",
       "      <th>CH</th>\n",
       "      <th>AW</th>\n",
       "      <th>AA</th>\n",
       "      <th>S</th>\n",
       "      <th>TH</th>\n",
       "      <th>Y</th>\n",
       "      <th>NG</th>\n",
       "      <th>K</th>\n",
       "      <th>UW</th>\n",
       "    </tr>\n",
       "  </thead>\n",
       "  <tbody>\n",
       "    <tr>\n",
       "      <th>0</th>\n",
       "      <td>0.002971</td>\n",
       "      <td>0.001616</td>\n",
       "      <td>0.002154</td>\n",
       "      <td>0.003320</td>\n",
       "      <td>0.003164</td>\n",
       "      <td>0.000000</td>\n",
       "      <td>0.0</td>\n",
       "      <td>0.000000</td>\n",
       "      <td>0.002070</td>\n",
       "      <td>0.000736</td>\n",
       "      <td>...</td>\n",
       "      <td>0.001289</td>\n",
       "      <td>0.001022</td>\n",
       "      <td>0.002863</td>\n",
       "      <td>0.001555</td>\n",
       "      <td>0.002401</td>\n",
       "      <td>0.000000</td>\n",
       "      <td>0.001838</td>\n",
       "      <td>0.001765</td>\n",
       "      <td>0.002599</td>\n",
       "      <td>0.003248</td>\n",
       "    </tr>\n",
       "    <tr>\n",
       "      <th>1</th>\n",
       "      <td>0.001943</td>\n",
       "      <td>0.003231</td>\n",
       "      <td>0.002154</td>\n",
       "      <td>0.003320</td>\n",
       "      <td>0.001964</td>\n",
       "      <td>0.002179</td>\n",
       "      <td>0.0</td>\n",
       "      <td>0.017241</td>\n",
       "      <td>0.002070</td>\n",
       "      <td>0.002209</td>\n",
       "      <td>...</td>\n",
       "      <td>0.001289</td>\n",
       "      <td>0.003067</td>\n",
       "      <td>0.007634</td>\n",
       "      <td>0.001037</td>\n",
       "      <td>0.002701</td>\n",
       "      <td>0.000926</td>\n",
       "      <td>0.005515</td>\n",
       "      <td>0.003530</td>\n",
       "      <td>0.002971</td>\n",
       "      <td>0.003609</td>\n",
       "    </tr>\n",
       "    <tr>\n",
       "      <th>2</th>\n",
       "      <td>0.003428</td>\n",
       "      <td>0.002019</td>\n",
       "      <td>0.001795</td>\n",
       "      <td>0.002213</td>\n",
       "      <td>0.001964</td>\n",
       "      <td>0.006536</td>\n",
       "      <td>0.0</td>\n",
       "      <td>0.000000</td>\n",
       "      <td>0.005176</td>\n",
       "      <td>0.002946</td>\n",
       "      <td>...</td>\n",
       "      <td>0.003007</td>\n",
       "      <td>0.000000</td>\n",
       "      <td>0.007634</td>\n",
       "      <td>0.004147</td>\n",
       "      <td>0.002551</td>\n",
       "      <td>0.000926</td>\n",
       "      <td>0.000000</td>\n",
       "      <td>0.001765</td>\n",
       "      <td>0.001485</td>\n",
       "      <td>0.002887</td>\n",
       "    </tr>\n",
       "    <tr>\n",
       "      <th>3</th>\n",
       "      <td>0.002400</td>\n",
       "      <td>0.001616</td>\n",
       "      <td>0.001436</td>\n",
       "      <td>0.001475</td>\n",
       "      <td>0.002509</td>\n",
       "      <td>0.002179</td>\n",
       "      <td>0.0</td>\n",
       "      <td>0.000000</td>\n",
       "      <td>0.008282</td>\n",
       "      <td>0.003682</td>\n",
       "      <td>...</td>\n",
       "      <td>0.000859</td>\n",
       "      <td>0.004090</td>\n",
       "      <td>0.005725</td>\n",
       "      <td>0.004147</td>\n",
       "      <td>0.003151</td>\n",
       "      <td>0.001852</td>\n",
       "      <td>0.007353</td>\n",
       "      <td>0.003530</td>\n",
       "      <td>0.002228</td>\n",
       "      <td>0.003609</td>\n",
       "    </tr>\n",
       "    <tr>\n",
       "      <th>4</th>\n",
       "      <td>0.003200</td>\n",
       "      <td>0.002423</td>\n",
       "      <td>0.001436</td>\n",
       "      <td>0.005164</td>\n",
       "      <td>0.003709</td>\n",
       "      <td>0.002179</td>\n",
       "      <td>0.0</td>\n",
       "      <td>0.000000</td>\n",
       "      <td>0.003106</td>\n",
       "      <td>0.002946</td>\n",
       "      <td>...</td>\n",
       "      <td>0.000859</td>\n",
       "      <td>0.002045</td>\n",
       "      <td>0.002863</td>\n",
       "      <td>0.001555</td>\n",
       "      <td>0.003151</td>\n",
       "      <td>0.001852</td>\n",
       "      <td>0.002757</td>\n",
       "      <td>0.000883</td>\n",
       "      <td>0.002599</td>\n",
       "      <td>0.001804</td>\n",
       "    </tr>\n",
       "  </tbody>\n",
       "</table>\n",
       "<p>5 rows × 39 columns</p>\n",
       "</div>"
      ],
      "text/plain": [
       "         AH        EY        AE        ER         T        JH   OY        ZH  \\\n",
       "0  0.002971  0.001616  0.002154  0.003320  0.003164  0.000000  0.0  0.000000   \n",
       "1  0.001943  0.003231  0.002154  0.003320  0.001964  0.002179  0.0  0.017241   \n",
       "2  0.003428  0.002019  0.001795  0.002213  0.001964  0.006536  0.0  0.000000   \n",
       "3  0.002400  0.001616  0.001436  0.001475  0.002509  0.002179  0.0  0.000000   \n",
       "4  0.003200  0.002423  0.001436  0.005164  0.003709  0.002179  0.0  0.000000   \n",
       "\n",
       "          G         V  ...        HH        CH        AW        AA         S  \\\n",
       "0  0.002070  0.000736  ...  0.001289  0.001022  0.002863  0.001555  0.002401   \n",
       "1  0.002070  0.002209  ...  0.001289  0.003067  0.007634  0.001037  0.002701   \n",
       "2  0.005176  0.002946  ...  0.003007  0.000000  0.007634  0.004147  0.002551   \n",
       "3  0.008282  0.003682  ...  0.000859  0.004090  0.005725  0.004147  0.003151   \n",
       "4  0.003106  0.002946  ...  0.000859  0.002045  0.002863  0.001555  0.003151   \n",
       "\n",
       "         TH         Y        NG         K        UW  \n",
       "0  0.000000  0.001838  0.001765  0.002599  0.003248  \n",
       "1  0.000926  0.005515  0.003530  0.002971  0.003609  \n",
       "2  0.000926  0.000000  0.001765  0.001485  0.002887  \n",
       "3  0.001852  0.007353  0.003530  0.002228  0.003609  \n",
       "4  0.001852  0.002757  0.000883  0.002599  0.001804  \n",
       "\n",
       "[5 rows x 39 columns]"
      ]
     },
     "execution_count": 84,
     "metadata": {},
     "output_type": "execute_result"
    }
   ],
   "source": [
    "with_lexical_stress = False\n",
    "df_counts, normalized_phoneme_count_mtx, all_words_not_in_dict = create_phoneme_embedding_df(preprocessed_sonnets_list, with_lexical_stress)\n",
    "print(Counter(all_words_not_in_dict).most_common(25))\n",
    "df_counts.head()"
   ]
  },
  {
   "cell_type": "code",
   "execution_count": 85,
   "metadata": {},
   "outputs": [
    {
     "name": "stdout",
     "output_type": "stream",
     "text": [
      "[('beauteous', 9), ('canst', 9), (\"stol'n\", 9), (\"virtue's\", 9), ('vouchsafe', 8), ('sprites', 8), (\"cupid's\", 8), (\"ev'n\", 8), ('shouldst', 7), ('plaints', 7), (\"lov'st\", 6), ('gainst', 6), ('wouldst', 6), ('tempests', 6), ('whereto', 6), ('sith', 6), ('deathe', 5), ('methinks', 5), ('descry', 5), ('wherefore', 4), (\"soul's\", 4), ('basest', 4), (\"know'st\", 4), ('wherewith', 4), ('twixt', 4)]\n"
     ]
    }
   ],
   "source": [
    "df_embeddings, cmu_embeddings_as_mtx, all_words_not_in_dict = create_cmu_mean_simvecs_embedding_df(preprocessed_sonnets_list)\n",
    "print(Counter(all_words_not_in_dict).most_common(25))"
   ]
  },
  {
   "cell_type": "code",
   "execution_count": 86,
   "metadata": {},
   "outputs": [
    {
     "name": "stdout",
     "output_type": "stream",
     "text": [
      "(351, 351)\n"
     ]
    }
   ],
   "source": [
    "# create distance matrix using cosine distance\n",
    "from sklearn.metrics.pairwise import cosine_distances\n",
    "cosine_dists = cosine_distances(normalized_phoneme_count_mtx)\n",
    "print(cosine_dists.shape)\n",
    "cosine_dists_as_lists = cosine_dists.tolist()\n",
    "\n",
    "#print(cosine_dists)"
   ]
  },
  {
   "cell_type": "code",
   "execution_count": 87,
   "metadata": {},
   "outputs": [],
   "source": [
    "# save cosine dist matrix\n",
    "with open(\"sonnet_dists_shakespeare_spenser_sidney.json\", \"w\") as f:\n",
    "    json.dump(cosine_dists_as_lists, f)"
   ]
  },
  {
   "cell_type": "code",
   "execution_count": 88,
   "metadata": {},
   "outputs": [],
   "source": [
    "vector = \"counts\" # or \"embedding\"\n",
    "\n",
    "if vector == \"counts\":\n",
    "    df = df_counts\n",
    "    filename_out_pca = 'pca_counts_sonnets_position_shakespeare_spenser_sidney.json'\n",
    "    filename_out_lda = 'lda_counts_sonnets_position_shakespeare_spenser_sidney.json'\n",
    "elif vector == \"embedding\":\n",
    "    df = df_embeddings\n",
    "    filename_out_pca = 'pca_embedding_sonnets_position_shakespeare_spenser_sidney.json'\n",
    "    filename_out_lda = 'lda_embedding_sonnets_position_shakespeare_spenser_sidney.json'\n",
    "    "
   ]
  },
  {
   "cell_type": "code",
   "execution_count": 89,
   "metadata": {},
   "outputs": [],
   "source": [
    "# encode author as shakespeare (1) or not (0)\n",
    "df['Author'] = 1\n",
    "df.loc[154:, \"Author\"] = 0"
   ]
  },
  {
   "cell_type": "code",
   "execution_count": 90,
   "metadata": {},
   "outputs": [
    {
     "data": {
      "text/plain": [
       "(351, 40)"
      ]
     },
     "execution_count": 90,
     "metadata": {},
     "output_type": "execute_result"
    }
   ],
   "source": [
    "df.shape"
   ]
  },
  {
   "cell_type": "code",
   "execution_count": 91,
   "metadata": {},
   "outputs": [
    {
     "name": "stdout",
     "output_type": "stream",
     "text": [
      "              precision    recall  f1-score   support\n",
      "\n",
      "           0       0.66      0.85      0.74        34\n",
      "           1       0.81      0.59      0.69        37\n",
      "\n",
      "    accuracy                           0.72        71\n",
      "   macro avg       0.74      0.72      0.72        71\n",
      "weighted avg       0.74      0.72      0.71        71\n",
      "\n"
     ]
    },
    {
     "data": {
      "text/plain": [
       "LinearDiscriminantAnalysis()"
      ]
     },
     "execution_count": 91,
     "metadata": {},
     "output_type": "execute_result"
    }
   ],
   "source": [
    "from sklearn.discriminant_analysis import LinearDiscriminantAnalysis\n",
    "from sklearn.model_selection import train_test_split\n",
    "from sklearn.metrics import classification_report\n",
    "from sklearn.metrics import confusion_matrix\n",
    "from sklearn.preprocessing import StandardScaler\n",
    "\n",
    "X = df.iloc[:,:-1]\n",
    "y = df['Author']\n",
    "\n",
    "X_train, X_test, y_train, y_test = train_test_split(X, y, test_size= 0.2)\n",
    "scaler = StandardScaler().fit(X_train) #For classification, fit scaler only on training data\n",
    "X_train = scaler.transform(X_train)\n",
    "X_test = scaler.transform(X_test)\n",
    "clf = LinearDiscriminantAnalysis()\n",
    "clf.fit(X_train, y_train)\n",
    "y_pred = clf.predict(X_test)\n",
    "print(classification_report(y_test, y_pred))\n",
    "\n",
    "# Use all datapoints\n",
    "X = StandardScaler().fit_transform(X)\n",
    "clf = LinearDiscriminantAnalysis()\n",
    "clf.fit(X, y)"
   ]
  },
  {
   "cell_type": "code",
   "execution_count": 92,
   "metadata": {},
   "outputs": [],
   "source": [
    "feat = pd.Series(clf.coef_[0], index=df.columns[0:-1], name='coef')"
   ]
  },
  {
   "cell_type": "code",
   "execution_count": 93,
   "metadata": {},
   "outputs": [
    {
     "data": {
      "text/plain": [
       "L    -0.689944\n",
       "OY   -0.508733\n",
       "S    -0.489003\n",
       "HH   -0.409625\n",
       "CH   -0.404300\n",
       "EY   -0.284720\n",
       "G    -0.224471\n",
       "B    -0.205891\n",
       "R    -0.203822\n",
       "SH   -0.157242\n",
       "W    -0.140081\n",
       "TH   -0.139476\n",
       "Name: coef, dtype: float64"
      ]
     },
     "execution_count": 93,
     "metadata": {},
     "output_type": "execute_result"
    }
   ],
   "source": [
    "feat.sort_values()[0:12]"
   ]
  },
  {
   "cell_type": "code",
   "execution_count": 69,
   "metadata": {},
   "outputs": [
    {
     "data": {
      "text/plain": [
       "DH    0.597622\n",
       "AH    0.544485\n",
       "IH    0.436748\n",
       "Y     0.433899\n",
       "AE    0.410804\n",
       "OW    0.345654\n",
       "JH    0.341124\n",
       "NG    0.323798\n",
       "AY    0.296485\n",
       "AO    0.249573\n",
       "EH    0.243388\n",
       "Name: coef, dtype: float64"
      ]
     },
     "execution_count": 69,
     "metadata": {},
     "output_type": "execute_result"
    }
   ],
   "source": [
    "(feat.sort_values(ascending=True)[-12:-1]).sort_values(ascending=False)"
   ]
  },
  {
   "cell_type": "code",
   "execution_count": 70,
   "metadata": {},
   "outputs": [
    {
     "name": "stdout",
     "output_type": "stream",
     "text": [
      "164\n",
      "68\n",
      "Daily when I do seek and sew for peace,\n",
      "And hostages do offer for my truth:\n",
      "She cruel warrior doth herself address\n",
      "To battle, and the weary war renew'th.\n",
      "Nor will be moved with reason or with ruth,\n",
      "To grant small respite to my restless toil:\n",
      "But greedily her fell intent persueth,\n",
      "Of my poor life to make unpityed spoil.\n",
      "Yet my poor life, all sorrows to assoyle,\n",
      "I would her yield, her wrath to pacify:\n",
      "But then she seeks with torment and turmoil,\n",
      "To force me live, and will not let me die.\n",
      "All pain hath end and every war hath peace,\n",
      "But mine no price nor prayer may surcease.\n",
      "\n",
      "  Those parts of thee that the world's eye doth view\n",
      "  Want nothing that the thought of hearts can mend;\n",
      "  All tongues--the voice of souls--give thee that due,\n",
      "  Uttering bare truth, even so as foes commend.\n",
      "  Thy outward thus with outward praise is crown'd;\n",
      "  But those same tongues, that give thee so thine own,\n",
      "  In other accents do this praise confound\n",
      "  By seeing farther than the eye hath shown.\n",
      "  They look into the beauty of thy mind,\n",
      "  And that in guess they measure by thy deeds;\n",
      "  Then--churls--their thoughts, although their eyes were kind,\n",
      "  To thy fair flower add the rank smell of weeds:\n",
      "    But why thy odour matcheth not thy show,\n",
      "    The soil is this, that thou dost common grow.\n",
      "\n"
     ]
    }
   ],
   "source": [
    "# Inspect \"most\" and \"least\" shakespeare-sounding poems\n",
    "sonnets_embedded_1d = clf.transform(X)\n",
    "print(np.argmax(sonnets_embedded_1d))\n",
    "print(np.argmin(sonnets_embedded_1d))\n",
    "\n",
    "print(sonnets_list[np.argmax(sonnets_embedded_1d)]['text'])\n",
    "print(sonnets_list[np.argmin(sonnets_embedded_1d)]['text'])"
   ]
  },
  {
   "cell_type": "code",
   "execution_count": 71,
   "metadata": {},
   "outputs": [],
   "source": [
    "# sonnets_embedded_1d"
   ]
  },
  {
   "cell_type": "code",
   "execution_count": null,
   "metadata": {},
   "outputs": [],
   "source": [
    "# print(\"phonene\", \"shkspr\", \"other\")\n",
    "# for ph,i, j in zip(phoneme_names_trimmed, phoneme_count_mtx[np.argmax(sonnets_embedded_1d),:] ,phoneme_count_mtx[np.argmin(sonnets_embedded_1d),:]):\n",
    "#     if not (round(i) ==0 and round(j)==0):\n",
    "#         print(ph, round(i), round(j))\n"
   ]
  },
  {
   "cell_type": "code",
   "execution_count": 72,
   "metadata": {},
   "outputs": [],
   "source": [
    "df['Author'] = 1\n",
    "df.loc[154:,'Author'] = 0\n",
    "df.loc[243:,'Author'] = 2"
   ]
  },
  {
   "cell_type": "code",
   "execution_count": 74,
   "metadata": {},
   "outputs": [
    {
     "name": "stdout",
     "output_type": "stream",
     "text": [
      "              precision    recall  f1-score   support\n",
      "\n",
      "           0       0.80      0.47      0.59        17\n",
      "           1       0.65      0.81      0.72        32\n",
      "           2       0.71      0.68      0.70        22\n",
      "\n",
      "    accuracy                           0.69        71\n",
      "   macro avg       0.72      0.65      0.67        71\n",
      "weighted avg       0.71      0.69      0.68        71\n",
      "\n",
      "Spenser, Shakespeare, Sidney\n",
      "[[ 8  7  2]\n",
      " [ 2 26  4]\n",
      " [ 0  7 15]]\n"
     ]
    },
    {
     "data": {
      "text/plain": [
       "LinearDiscriminantAnalysis(n_components=2)"
      ]
     },
     "execution_count": 74,
     "metadata": {},
     "output_type": "execute_result"
    }
   ],
   "source": [
    "X = df.iloc[:,:-1]\n",
    "y = df['Author']\n",
    "X_train, X_test, y_train, y_test = train_test_split(X, y, test_size= 0.2 )\n",
    "scaler = StandardScaler().fit(X_train)\n",
    "X_train = scaler.transform(X_train)\n",
    "X_test = scaler.transform(X_test)\n",
    "clf = LinearDiscriminantAnalysis(n_components=2)\n",
    "clf.fit(X_train, y_train)\n",
    "y_pred = clf.predict(X_test)\n",
    "print(classification_report(y_test, y_pred))\n",
    "print(\"Spenser, Shakespeare, Sidney\")\n",
    "print(confusion_matrix(y_test,y_pred))\n",
    "\n",
    "X = StandardScaler().fit_transform(X)\n",
    "clf.fit(X, y)"
   ]
  },
  {
   "cell_type": "code",
   "execution_count": 59,
   "metadata": {},
   "outputs": [
    {
     "data": {
      "image/png": "[encoded data removed]",
      "text/plain": [
       "<Figure size 432x288 with 1 Axes>"
      ]
     },
     "metadata": {
      "needs_background": "light"
     },
     "output_type": "display_data"
    }
   ],
   "source": [
    "from sklearn.decomposition import PCA\n",
    "from sklearn.preprocessing import StandardScaler\n",
    "import seaborn as sns\n",
    "from matplotlib import pyplot as plt\n",
    "\n",
    "X = StandardScaler().fit_transform(X)\n",
    "pca =  PCA(n_components=2).fit(X)\n",
    "sonnets_embedded_pca = pca.transform(X)\n",
    "sns.scatterplot(x = sonnets_embedded_pca[0:154,0],y=sonnets_embedded_pca[0:154,1], label=\"Shakespeare\")\n",
    "sns.scatterplot(x=sonnets_embedded_pca[154:243,0],y=sonnets_embedded_pca[154:243,1], label=\"Spenser\")\n",
    "sns.scatterplot(x=sonnets_embedded_pca[243:,0],y=sonnets_embedded_pca[243:,1],label=\"Sidney\")\n",
    "plt.title('PCA')\n",
    "plt.show()"
   ]
  },
  {
   "cell_type": "code",
   "execution_count": 75,
   "metadata": {},
   "outputs": [
    {
     "data": {
      "image/png": "[encoded data removed]",
      "text/plain": [
       "<Figure size 432x288 with 1 Axes>"
      ]
     },
     "metadata": {
      "needs_background": "light"
     },
     "output_type": "display_data"
    }
   ],
   "source": [
    "sonnets_embedded = clf.transform(X)\n",
    "sns.scatterplot(x = sonnets_embedded[0:154,0],y=sonnets_embedded[0:154,1], label=\"Shakespeare\")\n",
    "sns.scatterplot(x=sonnets_embedded[154:243,0],y=sonnets_embedded[154:243,1], label=\"Spenser\")\n",
    "sns.scatterplot(x=sonnets_embedded[243:,0],y=sonnets_embedded[243:,1],label=\"Sidney\")\n",
    "plt.title('Linear Discriminant Analysis')\n",
    "plt.show()"
   ]
  },
  {
   "cell_type": "code",
   "execution_count": 76,
   "metadata": {},
   "outputs": [],
   "source": [
    "sonnet_positions = []\n",
    "for idx, embedded_sonnet in enumerate(sonnets_embedded):\n",
    "    s = {\"sonnet_id\": idx, \"x\":  embedded_sonnet[0], \"y\": embedded_sonnet[1], \"author\":sonnets_list[idx][\"author\"]}\n",
    "    sonnet_positions.append(s)"
   ]
  },
  {
   "cell_type": "code",
   "execution_count": 77,
   "metadata": {},
   "outputs": [],
   "source": [
    "with open(filename_out_lda, 'w') as outfile:\n",
    "    json.dump(sonnet_positions, outfile)"
   ]
  },
  {
   "cell_type": "code",
   "execution_count": 78,
   "metadata": {},
   "outputs": [],
   "source": [
    "sonnet_positions_pca = []\n",
    "for idx, embedded_sonnet in enumerate(sonnets_embedded_pca):\n",
    "    s = {\"sonnet_id\": idx, \"x\":  embedded_sonnet[0], \"y\": embedded_sonnet[1], \"author\": sonnets_list[idx][\"author\"]}\n",
    "    sonnet_positions_pca.append(s)"
   ]
  },
  {
   "cell_type": "code",
   "execution_count": 79,
   "metadata": {},
   "outputs": [],
   "source": [
    "with open(filename_out_pca, 'w') as outfile:\n",
    "    json.dump(sonnet_positions_pca, outfile)"
   ]
  }
 ],
 "metadata": {
  "kernelspec": {
   "display_name": "sonnets",
   "language": "python",
   "name": "sonnets"
  },
  "language_info": {
   "codemirror_mode": {
    "name": "ipython",
    "version": 3
   },
   "file_extension": ".py",
   "mimetype": "text/x-python",
   "name": "python",
   "nbconvert_exporter": "python",
   "pygments_lexer": "ipython3",
   "version": "3.9.4"
  }
 },
 "nbformat": 4,
 "nbformat_minor": 4
}
