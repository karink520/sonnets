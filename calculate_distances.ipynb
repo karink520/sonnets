{
 "cells": [
  {
   "cell_type": "code",
   "execution_count": 18,
   "metadata": {},
   "outputs": [],
   "source": [
    "from sonnet_processing import read_sonnet_file, preprocess_sonnet, get_sonnet_phoneme_dict, get_cmu_simvecs_embedding, create_cmu_mean_simvecs_embedding_df, create_phoneme_embedding_df\n",
    "import json\n",
    "from sklearn.metrics.pairwise import cosine_distances, euclidean_distances"
   ]
  },
  {
   "cell_type": "code",
   "execution_count": 19,
   "metadata": {},
   "outputs": [],
   "source": [
    "def create_dist_output(poet_list, counts_or_embedding):\n",
    "    dists_filename = \"sonnet_dists_\" + counts_or_embedding\n",
    "    sonnet_text_filename = \"sonnets\" \n",
    "    \n",
    "    for poet in poet_list:\n",
    "        dists_filename += \"_\"\n",
    "        dists_filename += poet\n",
    "        sonnet_text_filename += \"_\"\n",
    "        sonnet_text_filename += poet\n",
    "    dists_filename += '.json'\n",
    "    sonnet_text_filename += \".json\"\n",
    "    print(dists_filename)\n",
    "\n",
    "    sonnets_list = []\n",
    "    curr_sonnet_idx = 0\n",
    "    if \"shakespeare\" in poet_list:\n",
    "        sonnets_list, curr_sonnet_idx = read_sonnet_file(\"text/sonnets.txt\", \"Shakespeare\", sonnets_list, curr_sonnet_idx) #154\n",
    "    if \"spenser\" in poet_list:\n",
    "        sonnets_list, curr_sonnet_idx = read_sonnet_file(\"text/spenser_sonnets.txt\", \"Spenser\", sonnets_list, curr_sonnet_idx) #89\n",
    "    if \"sidney\" in poet_list:\n",
    "        sonnets_list, curr_sonnet_idx = read_sonnet_file(\"text/sidney_sonnets.txt\", \"Sidney\", sonnets_list, curr_sonnet_idx) #108\n",
    "    sonnets_dict = {idx: sonnet for idx, sonnet in enumerate(sonnets_list)}\n",
    "    \n",
    "    with open(sonnet_text_filename, 'w') as outfile:\n",
    "        json.dump(sonnets_list, outfile)\n",
    "\n",
    "    preprocessed_sonnets_list =[preprocess_sonnet(sonnet[\"text\"]) for sonnet in sonnets_list]\n",
    "    \n",
    "    if counts_or_embedding == \"counts\":\n",
    "        with_lexical_stress = False\n",
    "        df_counts, normalized_phoneme_count_mtx, all_words_not_in_dict = create_phoneme_embedding_df(preprocessed_sonnets_list, with_lexical_stress)\n",
    "        dists = cosine_distances(normalized_phoneme_count_mtx)\n",
    "            \n",
    "    elif counts_or_embedding == \"embedding\":\n",
    "        df_embeddings, cmu_embeddings_as_mtx, all_words_not_in_dict = create_cmu_mean_simvecs_embedding_df(preprocessed_sonnets_list)\n",
    "        dists = euclidean_distances(cmu_embeddings_as_mtx)\n",
    "    \n",
    "    dists_as_lists = dists.tolist()\n",
    "    \n",
    "    with open(dists_filename, \"w\") as f:\n",
    "        json.dump(dists_as_lists, f)\n",
    "        "
   ]
  },
  {
   "cell_type": "code",
   "execution_count": 20,
   "metadata": {},
   "outputs": [
    {
     "name": "stdout",
     "output_type": "stream",
     "text": [
      "sonnet_dists_counts_shakespeare_spenser_sidney.json\n",
      "sonnet_dists_embedding_shakespeare_spenser_sidney.json\n",
      "sonnet_dists_counts_shakespeare.json\n",
      "sonnet_dists_embedding_shakespeare.json\n",
      "sonnet_dists_counts_spenser.json\n",
      "sonnet_dists_embedding_spenser.json\n",
      "sonnet_dists_counts_sidney.json\n",
      "sonnet_dists_embedding_sidney.json\n",
      "sonnet_dists_counts_shakespeare_spenser.json\n",
      "sonnet_dists_embedding_shakespeare_spenser.json\n",
      "sonnet_dists_counts_shakespeare_sidney.json\n",
      "sonnet_dists_embedding_shakespeare_sidney.json\n",
      "sonnet_dists_counts_spenser_sidney.json\n",
      "sonnet_dists_embedding_spenser_sidney.json\n"
     ]
    }
   ],
   "source": [
    "poet_list_of_lists = [\n",
    "    [\"shakespeare\",\"spenser\",\"sidney\"],\n",
    "    [\"shakespeare\"],\n",
    "    [\"spenser\"],\n",
    "    [\"sidney\"],\n",
    "    [\"shakespeare\", \"spenser\"],\n",
    "    [\"shakespeare\", \"sidney\"],\n",
    "    ['spenser', 'sidney']\n",
    "]\n",
    "\n",
    "for poet_list in poet_list_of_lists: \n",
    "    create_dist_output(poet_list, \"counts\")\n",
    "    create_dist_output(poet_list, \"embedding\")"
   ]
  },
  {
   "cell_type": "code",
   "execution_count": null,
   "metadata": {},
   "outputs": [],
   "source": []
  },
  {
   "cell_type": "code",
   "execution_count": null,
   "metadata": {},
   "outputs": [],
   "source": []
  }
 ],
 "metadata": {
  "kernelspec": {
   "display_name": "sonnets",
   "language": "python",
   "name": "sonnets"
  },
  "language_info": {
   "codemirror_mode": {
    "name": "ipython",
    "version": 3
   },
   "file_extension": ".py",
   "mimetype": "text/x-python",
   "name": "python",
   "nbconvert_exporter": "python",
   "pygments_lexer": "ipython3",
   "version": "3.9.4"
  }
 },
 "nbformat": 4,
 "nbformat_minor": 4
}
